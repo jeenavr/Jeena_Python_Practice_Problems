{
  "nbformat": 4,
  "nbformat_minor": 0,
  "metadata": {
    "colab": {
      "provenance": []
    },
    "kernelspec": {
      "name": "python3",
      "display_name": "Python 3"
    },
    "language_info": {
      "name": "python"
    }
  },
  "cells": [
    {
      "cell_type": "markdown",
      "source": [
        "1. Write an interactive Python Program to implement following “Guess Game”\n",
        "i. Think of a number between 1 and 10 and store it in a variable called\n",
        "\"secretNumber\".\n",
        "ii. Ask the user to enter a number between 1 and 10 and store it in a variable called\n",
        "\"guess\".\n",
        "iii. Use control statements (if-else) to check if the guess is correct, higher, or lower\n",
        "than the secret number.\n",
        "iv. Display appropriate messages to the user based on their guess:\n",
        "• If the guess is correct, display \"Congratulations! You guessed the number\n",
        "correctly!\"\n",
        "• If the guess is higher than the secret number, display \"Too high! Try\n",
        "again.\"\n",
        "• If the guess is lower than the secret number, display \"Too low! Try again.\"\n",
        "v. Allow the user to keep guessing until they guess the correct number."
      ],
      "metadata": {
        "id": "rh1z2uEVPATC"
      }
    },
    {
      "cell_type": "code",
      "source": [
        "import random\n",
        "secretNumber = random.randint(1, 10)\n",
        "while True:\n",
        "        guess = int(input(\"Enter a number between 1 and 10: \"))\n",
        "        if guess == secretNumber:\n",
        "            print(\"Congratulations! You guessed the number correctly!\")\n",
        "            break\n",
        "        elif guess > secretNumber:\n",
        "            print(\"Too high! Try again.\")\n",
        "        else:\n",
        "            print(\"Too low! Try again.\")"
      ],
      "metadata": {
        "id": "PMmTz6jQPTaa",
        "colab": {
          "base_uri": "https://localhost:8080/"
        },
        "outputId": "c8ec0931-0770-47ea-cc08-77814833b34a"
      },
      "execution_count": null,
      "outputs": [
        {
          "output_type": "stream",
          "name": "stdout",
          "text": [
            "Enter a number between 1 and 10: 6\n",
            "Too high! Try again.\n",
            "Enter a number between 1 and 10: 1\n",
            "Too low! Try again.\n",
            "Enter a number between 1 and 10: 4\n",
            "Congratulations! You guessed the number correctly!\n"
          ]
        }
      ]
    },
    {
      "cell_type": "markdown",
      "source": [
        "2. Write a program to find and print the Factorial of the given number. The Factorial of a positive\n",
        "integer N refers to the product of all number in the range from 1 to N.\n"
      ],
      "metadata": {
        "id": "F6-vA19aPNqq"
      }
    },
    {
      "cell_type": "code",
      "source": [
        "n=int(input(\"Enter the number to find factorial:\"))\n",
        "fact=1\n",
        "while(n>0):\n",
        "    fact=fact*n\n",
        "    n=n-1\n",
        "print(f\"Factorial of the given number is:\",fact)"
      ],
      "metadata": {
        "colab": {
          "base_uri": "https://localhost:8080/"
        },
        "id": "xVZ1YwuhBDoE",
        "outputId": "9f5213cb-5a8d-466e-fea3-1d8b13f6c18c"
      },
      "execution_count": null,
      "outputs": [
        {
          "output_type": "stream",
          "name": "stdout",
          "text": [
            "Enter the number to find factorial:6\n",
            "Factorial of the given number is: 720\n"
          ]
        }
      ]
    },
    {
      "cell_type": "markdown",
      "source": [
        "3. Roy wants to change his profile picture on Facebook. Now Facebook has some\n",
        "restriction over the dimension of picture that we can upload.\n",
        "Minimum dimension of the picture can be L x L, where L is the length of the side\n",
        "of square. Now Roy has N photos of various dimensions.\n",
        "Dimension of a photo is denoted as W x H\n",
        "where W - width of the photo and H - Height of the photo\n",
        "• When any photo is uploaded following events may occur:\n",
        "[1] If any of the width or height is less than L, user is prompted to upload another\n",
        "one. Print \"UPLOAD ANOTHER\" in this case.\n",
        "[2] If width and height, both are large enough and\n",
        "(a) if the photo is already square then it is accepted. Print \"ACCEPTED\" in this\n",
        "case.\n",
        "(b) else user is prompted to crop it. Print \"CROP IT\" in this case.\n",
        "Given L, N, W and H as input, write a program to print appropriate text as output"
      ],
      "metadata": {
        "id": "xx6N2FjOG6gU"
      }
    },
    {
      "cell_type": "code",
      "source": [
        "def upload_photo(L, N, photos):\n",
        "    for i in range(N):\n",
        "        W, H = photos[i]\n",
        "\n",
        "        if W < L or H < L:\n",
        "            print(\"UPLOAD ANOTHER\")\n",
        "        elif W == H:\n",
        "            print(\"ACCEPTED\")\n",
        "        else:\n",
        "            print(\"CROP IT\")\n",
        "L = int(input(\"Enter the minimum dimension L: \"))\n",
        "N = int(input(\"Enter the number of photos: \"))\n",
        "\n",
        "photos = []\n",
        "for i in range(N):\n",
        "    W, H = map(int, input(f\"Enter the dimensions (W H) of photo {i + 1}: \").split())\n",
        "    photos.append((W, H))\n",
        "\n",
        "upload_photo(L, N, photos)\n"
      ],
      "metadata": {
        "colab": {
          "base_uri": "https://localhost:8080/"
        },
        "id": "Iz19I3tuH4Ee",
        "outputId": "2529cf1f-1eef-4809-dc05-550a91502d88"
      },
      "execution_count": 43,
      "outputs": [
        {
          "output_type": "stream",
          "name": "stdout",
          "text": [
            "Enter the minimum dimension L: 100\n",
            "Enter the number of photos: 2\n",
            "Enter the dimensions (W H) of photo 1: 100 400\n",
            "Enter the dimensions (W H) of photo 2: 200 500\n",
            "CROP IT\n",
            "CROP IT\n"
          ]
        }
      ]
    }
  ]
}