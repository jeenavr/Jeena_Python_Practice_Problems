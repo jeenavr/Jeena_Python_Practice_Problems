{
  "nbformat": 4,
  "nbformat_minor": 0,
  "metadata": {
    "colab": {
      "provenance": []
    },
    "kernelspec": {
      "name": "python3",
      "display_name": "Python 3"
    },
    "language_info": {
      "name": "python"
    }
  },
  "cells": [
    {
      "cell_type": "markdown",
      "source": [
        "1.\tGiven the string \"Hello, World!\", extract and print the substring \"Hello\"."
      ],
      "metadata": {
        "id": "LnVKa3cwjFf2"
      }
    },
    {
      "cell_type": "code",
      "source": [
        "str=\"Hello, World!\"\n",
        "print(str[:5])"
      ],
      "metadata": {
        "colab": {
          "base_uri": "https://localhost:8080/"
        },
        "id": "b8DbKyPPjJwm",
        "outputId": "34109b1d-928c-4c53-a663-ca9a2fcef4a1"
      },
      "execution_count": 2,
      "outputs": [
        {
          "output_type": "stream",
          "name": "stdout",
          "text": [
            "Hello\n"
          ]
        }
      ]
    },
    {
      "cell_type": "markdown",
      "source": [
        "2.\tGiven the string \"Python is fun\", extract and print the substring \"is\"."
      ],
      "metadata": {
        "id": "epiSIkULkcV3"
      }
    },
    {
      "cell_type": "code",
      "source": [
        "str=\"Python is fun\"\n",
        "print(str[7:9])"
      ],
      "metadata": {
        "colab": {
          "base_uri": "https://localhost:8080/"
        },
        "id": "pGQv0ro1kfx2",
        "outputId": "833ea56d-e71e-49a8-8f30-5b1223a0595e"
      },
      "execution_count": 3,
      "outputs": [
        {
          "output_type": "stream",
          "name": "stdout",
          "text": [
            "is\n"
          ]
        }
      ]
    },
    {
      "cell_type": "markdown",
      "source": [
        "3.\tGiven the string \"Programming\", extract and print the substring \"gram\" using slicing indices."
      ],
      "metadata": {
        "id": "4YEvcypmlTcW"
      }
    },
    {
      "cell_type": "code",
      "source": [
        "str=\"Programming\"\n",
        "print(str[3:7])"
      ],
      "metadata": {
        "colab": {
          "base_uri": "https://localhost:8080/"
        },
        "id": "yOkKU2FFlZ8W",
        "outputId": "5c190449-7795-4f48-849e-fee763bc5e3f"
      },
      "execution_count": 4,
      "outputs": [
        {
          "output_type": "stream",
          "name": "stdout",
          "text": [
            "gram\n"
          ]
        }
      ]
    },
    {
      "cell_type": "markdown",
      "source": [
        "4.\tGiven the string \"abcdefgh\", use slicing to print only the characters at even indices."
      ],
      "metadata": {
        "id": "rJGoK1NjlnzO"
      }
    },
    {
      "cell_type": "code",
      "source": [
        "str=\"abcdefgh\"\n",
        "print(str[0:7:2])"
      ],
      "metadata": {
        "colab": {
          "base_uri": "https://localhost:8080/"
        },
        "id": "l3SjLiSolvjO",
        "outputId": "99155ddb-8a3b-43da-c607-4a7555ac88d6"
      },
      "execution_count": 5,
      "outputs": [
        {
          "output_type": "stream",
          "name": "stdout",
          "text": [
            "aceg\n"
          ]
        }
      ]
    },
    {
      "cell_type": "markdown",
      "source": [
        "5.\tGiven the string \"abcdefg\", use negative indices to extract and print the substring \"efg\"."
      ],
      "metadata": {
        "id": "zTdmO6vYmR3m"
      }
    },
    {
      "cell_type": "code",
      "source": [
        "str=\"abcdefg\"\n",
        "print(str[-3:])"
      ],
      "metadata": {
        "colab": {
          "base_uri": "https://localhost:8080/"
        },
        "id": "oTgjkXyYmYcO",
        "outputId": "3f6a970d-f342-4016-9f74-662dd81b2da7"
      },
      "execution_count": 8,
      "outputs": [
        {
          "output_type": "stream",
          "name": "stdout",
          "text": [
            "efg\n"
          ]
        }
      ]
    },
    {
      "cell_type": "markdown",
      "source": [
        "6.\tGiven the string \"Data Science\", use negative indices to extract and print the last three characters."
      ],
      "metadata": {
        "id": "u1MT41a3m5-W"
      }
    },
    {
      "cell_type": "code",
      "source": [
        "str=\"Data Science\"\n",
        "print(str[-3:])"
      ],
      "metadata": {
        "colab": {
          "base_uri": "https://localhost:8080/"
        },
        "id": "KNSPcte7m_Dm",
        "outputId": "41b7e456-6621-4e14-cfa8-ca35b6973194"
      },
      "execution_count": 9,
      "outputs": [
        {
          "output_type": "stream",
          "name": "stdout",
          "text": [
            "nce\n"
          ]
        }
      ]
    },
    {
      "cell_type": "markdown",
      "source": [
        "7.\tGiven the string \"abcdefghij\", use slicing with a step to print every second character."
      ],
      "metadata": {
        "id": "fY6WwwmSnRZn"
      }
    },
    {
      "cell_type": "code",
      "source": [
        "str=\"abcdefghij\"\n",
        "print(str[0:10:2])"
      ],
      "metadata": {
        "colab": {
          "base_uri": "https://localhost:8080/"
        },
        "id": "TdFQYxrwnVyG",
        "outputId": "7f697887-3f22-44ef-cd07-9931bc1a9026"
      },
      "execution_count": 10,
      "outputs": [
        {
          "output_type": "stream",
          "name": "stdout",
          "text": [
            "acegi\n"
          ]
        }
      ]
    },
    {
      "cell_type": "markdown",
      "source": [
        "8.\tGiven the string \"1234567890\", use slicing with a step to print the odd digits."
      ],
      "metadata": {
        "id": "B0mj9DUOnuHO"
      }
    },
    {
      "cell_type": "code",
      "source": [
        "str=\"1234567890\"\n",
        "print(str[0:10:2])"
      ],
      "metadata": {
        "colab": {
          "base_uri": "https://localhost:8080/"
        },
        "id": "LxFfJp1AnynG",
        "outputId": "7137572b-4d7f-4c15-987f-58809ee34c1c"
      },
      "execution_count": 11,
      "outputs": [
        {
          "output_type": "stream",
          "name": "stdout",
          "text": [
            "13579\n"
          ]
        }
      ]
    },
    {
      "cell_type": "markdown",
      "source": [
        "9.\tGiven the string \"Hello\", use slicing to print the string in reverse order."
      ],
      "metadata": {
        "id": "DAZ4dqIioPhm"
      }
    },
    {
      "cell_type": "code",
      "source": [
        "str=\"Hello\"\n",
        "print(str[::-1])"
      ],
      "metadata": {
        "colab": {
          "base_uri": "https://localhost:8080/"
        },
        "id": "_JOyLuKOoTN-",
        "outputId": "72ffa220-8346-4f98-d04f-808edb26d4b6"
      },
      "execution_count": 12,
      "outputs": [
        {
          "output_type": "stream",
          "name": "stdout",
          "text": [
            "olleH\n"
          ]
        }
      ]
    },
    {
      "cell_type": "markdown",
      "source": [
        "10. Given the string \"abcdefghijk\", extract and print the substring \"acegik\" using slicing."
      ],
      "metadata": {
        "id": "Uq_clVJ9omPX"
      }
    },
    {
      "cell_type": "code",
      "source": [
        "str=\"abcdefghijk\"\n",
        "print(str[0:11:2])"
      ],
      "metadata": {
        "colab": {
          "base_uri": "https://localhost:8080/"
        },
        "id": "faioxuLmorgn",
        "outputId": "890d19a8-ca29-4173-b25a-86373e1317e4"
      },
      "execution_count": 13,
      "outputs": [
        {
          "output_type": "stream",
          "name": "stdout",
          "text": [
            "acegik\n"
          ]
        }
      ]
    }
  ]
}