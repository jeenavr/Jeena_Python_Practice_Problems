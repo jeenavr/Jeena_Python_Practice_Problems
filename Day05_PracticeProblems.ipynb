{
  "nbformat": 4,
  "nbformat_minor": 0,
  "metadata": {
    "colab": {
      "provenance": []
    },
    "kernelspec": {
      "name": "python3",
      "display_name": "Python 3"
    },
    "language_info": {
      "name": "python"
    }
  },
  "cells": [
    {
      "cell_type": "markdown",
      "source": [
        "1. Write a function that returns the middle value among three integers.Write code to test this\n",
        "function with different inputs.\n"
      ],
      "metadata": {
        "id": "XMwCqqOYCoX8"
      }
    },
    {
      "cell_type": "code",
      "source": [
        "def user_inputs():\n",
        "    num1 = int(input(\"Enter the first integer: \"))\n",
        "    num2 = int(input(\"Enter the second integer: \"))\n",
        "    num3 = int(input(\"Enter the third integer: \"))\n",
        "    return num1, num2, num3\n",
        "\n",
        "def middle_value(num1, num2, num3):\n",
        "    middle_value = num1 + num2 + num3 - min(num1, num2, num3) - max(num1, num2, num3)\n",
        "    return middle_value\n",
        "\n",
        "user_inputs = user_inputs()\n",
        "result = middle_value(*user_inputs)\n",
        "\n",
        "print(\"Middle value:\", result)\n"
      ],
      "metadata": {
        "colab": {
          "base_uri": "https://localhost:8080/"
        },
        "id": "nOFBFDoXEQEL",
        "outputId": "60179a0c-5795-4099-aa87-e1b4b81bb09b"
      },
      "execution_count": 11,
      "outputs": [
        {
          "output_type": "stream",
          "name": "stdout",
          "text": [
            "Enter the first integer: 5\n",
            "Enter the second integer: 9\n",
            "Enter the third integer: 7\n",
            "Middle value: 7\n"
          ]
        }
      ]
    },
    {
      "cell_type": "markdown",
      "source": [
        "2. Build a calculator in Python using functions.\n"
      ],
      "metadata": {
        "id": "j5vEPF7BEQ2z"
      }
    },
    {
      "cell_type": "code",
      "source": [
        "def add(a, b):\n",
        "    return a + b\n",
        "\n",
        "def subtract(a, b):\n",
        "    return a - b\n",
        "\n",
        "def multiply(a, b):\n",
        "    return a * b\n",
        "\n",
        "def divide(a, b):\n",
        "    if b != 0:\n",
        "        return a / b\n",
        "    else:\n",
        "        print(\"Cannot divide by zero!\")\n",
        "\n",
        "def calculate(operator, a, b):\n",
        "    if operator == '+':\n",
        "        return add(a, b)\n",
        "    elif operator == '-':\n",
        "        return subtract(a, b)\n",
        "    elif operator == '*':\n",
        "        return multiply(a, b)\n",
        "    elif operator == '/':\n",
        "        return divide(a, b)\n",
        "    else:\n",
        "        print(\"Invalid operator\")\n",
        "\n",
        "num1 = float(input(\"Enter the first number: \"))\n",
        "operator = input(\"Enter the operator (+, -, *, /): \")\n",
        "num2 = float(input(\"Enter the second number: \"))\n",
        "\n",
        "result = calculate(operator, num1, num2)\n",
        "print(f\"Result: {result}\")\n"
      ],
      "metadata": {
        "colab": {
          "base_uri": "https://localhost:8080/"
        },
        "id": "z4wADwEqCpLT",
        "outputId": "425a2dc4-4291-4744-a450-2c61d26052c2"
      },
      "execution_count": 5,
      "outputs": [
        {
          "output_type": "stream",
          "name": "stdout",
          "text": [
            "Enter the first number: 8\n",
            "Enter the operator (+, -, *, /): *\n",
            "Enter the second number: 4\n",
            "Result: 32.0\n"
          ]
        }
      ]
    },
    {
      "cell_type": "markdown",
      "source": [
        "3. Write a function that takes the lengths of the two shorter sides of a right triangle as its\n",
        "parameters. Return the hypotenuse of the triangle, computed using Pythagorean theorem,\n",
        "as the function’s result.\n"
      ],
      "metadata": {
        "id": "F3d6nHfBDhBM"
      }
    },
    {
      "cell_type": "code",
      "source": [
        "import math\n",
        "\n",
        "def calc_hypot(a, b):\n",
        "    hypot = math.sqrt(a**2 + b**2)\n",
        "    return hypot\n",
        "\n",
        "side1 = float(input(\"Enter the length of the first side: \"))\n",
        "side2 = float(input(\"Enter the length of the second side: \"))\n",
        "\n",
        "result = calc_hypot(side1, side2)\n",
        "print(f\"The length of the hypotenuse is: {result}\")\n"
      ],
      "metadata": {
        "colab": {
          "base_uri": "https://localhost:8080/"
        },
        "id": "CdBRw7ICDhWz",
        "outputId": "414e34fe-4c07-47ec-ccab-1f350a34c462"
      },
      "execution_count": 8,
      "outputs": [
        {
          "output_type": "stream",
          "name": "stdout",
          "text": [
            "Enter the length of the first side: 3\n",
            "Enter the length of the second side: 4\n",
            "The length of the hypotenuse is: 5.0\n"
          ]
        }
      ]
    },
    {
      "cell_type": "markdown",
      "source": [
        "4. The Rectangle problem\n",
        "(a) Write a Rectangle class in Python language, allowing you to build a rectangle with\n",
        "length and width attributes.\n",
        "(b) Create a Perimeter() method to calculate the perimeter of the rectangle and a Area()\n",
        "method to calculate the area of the rectangle.\n",
        "(c) Create a method display() that display the length, width, perimeter and area of an\n",
        "object created using an instantiation on rectangle class.\n"
      ],
      "metadata": {
        "id": "TQly0owmE-fk"
      }
    },
    {
      "cell_type": "code",
      "source": [
        "class Rectangle:\n",
        "    def __init__(self, length, width):\n",
        "        self.length = length\n",
        "        self.width = width\n",
        "\n",
        "    def Perimeter(self):\n",
        "        return 2 * (self.length + self.width)\n",
        "\n",
        "    def Area(self):\n",
        "        return self.length * self.width\n",
        "\n",
        "    def display(self):\n",
        "        print(\"Length:\", self.length)\n",
        "        print(\"Width:\", self.width)\n",
        "        print(\"Perimeter:\", self.Perimeter())\n",
        "        print(\"Area:\", self.Area())\n",
        "\n",
        "my_rectangle = Rectangle(7, 4)\n",
        "my_rectangle.display()\n"
      ],
      "metadata": {
        "colab": {
          "base_uri": "https://localhost:8080/"
        },
        "id": "THLgjP3aE-0z",
        "outputId": "5e9f793b-9b08-493a-dce4-1dcb04148773"
      },
      "execution_count": 9,
      "outputs": [
        {
          "output_type": "stream",
          "name": "stdout",
          "text": [
            "Length: 7\n",
            "Width: 4\n",
            "Perimeter: 22\n",
            "Area: 28\n"
          ]
        }
      ]
    },
    {
      "cell_type": "markdown",
      "source": [
        "5. The Bank Account problem\n",
        "(a) Create a Python class called BankAccount which represents a bank account, having\n",
        "as attributes: accountNumber (numeric type), name (name of the account owner as\n",
        "string type), balance.\n",
        "(b) Create a constructor with parameters: accountNumber, name, balance.\n",
        "(c) Create a Deposit() method which manages the deposit actions.\n",
        "(d) Create a Withdrawal() method which manages withdrawals actions.\n",
        "(e) Create an bankFees() method to apply the bank fees with a percentage of 5% of the\n",
        "balance account.\n",
        "(f) Create a display() method to display account details."
      ],
      "metadata": {
        "id": "sPZ5LQTQFdRD"
      }
    },
    {
      "cell_type": "code",
      "source": [
        "class BankAccount:\n",
        "    def __init__(self, accountNumber, name, balance):\n",
        "        self.accountNumber = accountNumber\n",
        "        self.name = name\n",
        "        self.balance = balance\n",
        "\n",
        "    def Deposit(self, amount):\n",
        "        if amount > 0:\n",
        "            self.balance += amount\n",
        "            print(f\"Deposit of {amount} successful. New balance: {self.balance}\")\n",
        "        else:\n",
        "            print(\"Invalid deposit amount. Please enter a positive value.\")\n",
        "\n",
        "    def Withdrawal(self, amount):\n",
        "        if 0 < amount <= self.balance:\n",
        "            self.balance -= amount\n",
        "            print(f\"Withdrawal of {amount} successful. New balance: {self.balance}\")\n",
        "        else:\n",
        "            print(\"Invalid withdrawal amount. Insufficient funds.\")\n",
        "\n",
        "    def bankFees(self):\n",
        "        fees = 0.05 * self.balance\n",
        "        self.balance -= fees\n",
        "        print(f\"Bank fees of {fees} applied. New balance: {self.balance}\")\n",
        "\n",
        "    def display(self):\n",
        "        print(\"Account Number:\", self.accountNumber)\n",
        "        print(\"Account Holder:\", self.name)\n",
        "        print(\"Balance:\", self.balance)\n",
        "\n",
        "my_account = BankAccount(123, \"John Doe\", 1000)\n",
        "\n",
        "my_account.display()\n",
        "my_account.Deposit(500)\n",
        "my_account.Withdrawal(200)\n",
        "my_account.bankFees()\n",
        "my_account.display()\n"
      ],
      "metadata": {
        "colab": {
          "base_uri": "https://localhost:8080/"
        },
        "id": "r-Zs5b35FdcS",
        "outputId": "4a3907c7-d710-46ee-d9c0-570014a81156"
      },
      "execution_count": 10,
      "outputs": [
        {
          "output_type": "stream",
          "name": "stdout",
          "text": [
            "Account Number: 123\n",
            "Account Holder: John Doe\n",
            "Balance: 1000\n",
            "Deposit of 500 successful. New balance: 1500\n",
            "Withdrawal of 200 successful. New balance: 1300\n",
            "Bank fees of 65.0 applied. New balance: 1235.0\n",
            "Account Number: 123\n",
            "Account Holder: John Doe\n",
            "Balance: 1235.0\n"
          ]
        }
      ]
    }
  ]
}