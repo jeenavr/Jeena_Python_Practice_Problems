{
  "nbformat": 4,
  "nbformat_minor": 0,
  "metadata": {
    "colab": {
      "provenance": []
    },
    "kernelspec": {
      "name": "python3",
      "display_name": "Python 3"
    },
    "language_info": {
      "name": "python"
    }
  },
  "cells": [
    {
      "cell_type": "markdown",
      "source": [
        "1. Given the participants' score sheet for your University Sports Day, you are required to\n",
        "find the runner-up score. You are given scores. Store them in a list and find the score of\n",
        "the runner-up. (Create an array of scores and print the runner up score)"
      ],
      "metadata": {
        "id": "fYSkZDvECW9_"
      }
    },
    {
      "cell_type": "code",
      "source": [
        "scores = [int(x) for x in input(\"Enter the scores separated by space: \").split()]\n",
        "if len(scores)<2:\n",
        "  print(\"Insufficient number of scores!\")\n",
        "else:\n",
        "    unique_score = list(set(scores))\n",
        "    unique_score.sort(reverse=True)\n",
        "    runner_up_score = unique_score[1]\n",
        "    print(f\"The runner-up score is: {runner_up_score}\")\n"
      ],
      "metadata": {
        "colab": {
          "base_uri": "https://localhost:8080/"
        },
        "id": "U4x0HlXxCYUV",
        "outputId": "08467e29-9be2-4a74-cee8-cbd86b049162"
      },
      "execution_count": 12,
      "outputs": [
        {
          "output_type": "stream",
          "name": "stdout",
          "text": [
            "Enter the scores separated by space: 42 86 73 95\n",
            "The runner-up score is: 86\n"
          ]
        }
      ]
    },
    {
      "cell_type": "markdown",
      "source": [
        "2. A dictionary is given D={‘John’ [25,32,43],’Peter’:[87,55,96],’Ram’:[58,55,43],’Meena’:[63,79,85]}\n",
        "Get a name from user if the name in the dictionary change the values corresponding to\n",
        "that user to [88,77,99] and print the dictionary. Else print ‘Name not found’."
      ],
      "metadata": {
        "id": "qQ4L1tirOzNt"
      }
    },
    {
      "cell_type": "code",
      "source": [
        "d = {'John': [25, 32, 43],'Peter': [87, 55, 96],'Ram': [58, 55, 43],'Meena': [63, 79, 85]}\n",
        "name = input(\"Enter a name:\")\n",
        "if name in d:\n",
        "    d[name] = [88,77,99]\n",
        "    print(f\"Values for {name} updated to [88,77,99].\")\n",
        "    print(\"Updated Dictionary:\",d)\n",
        "else:\n",
        "    print(\"Name not found!\")\n"
      ],
      "metadata": {
        "colab": {
          "base_uri": "https://localhost:8080/"
        },
        "id": "hKT5Wq5dPAz9",
        "outputId": "44647c66-9b28-4e57-da14-23c43d84541a"
      },
      "execution_count": 13,
      "outputs": [
        {
          "output_type": "stream",
          "name": "stdout",
          "text": [
            "Enter a name:Meena\n",
            "Values for Meena updated to [88,77,99].\n",
            "Updated Dictionary: {'John': [25, 32, 43], 'Peter': [87, 55, 96], 'Ram': [58, 55, 43], 'Meena': [88, 77, 99]}\n"
          ]
        }
      ]
    },
    {
      "cell_type": "markdown",
      "source": [
        "3. Ticket Price Calculator:\n",
        "I. Ask the user to enter their age.\n",
        "II. Use control statements (if-elif-else) to calculate the ticket price based on the\n",
        "following conditions:\n",
        "a. If the age is below 5, the ticket price is free.\n",
        "b. If the age is between 5 and 12 (inclusive), the ticket price is Rs.10.\n",
        "c. If the age is above 12, the ticket price is Rs.50.\n",
        "d. If the age is above 60, the ticket price is free.\n",
        "e. If the gender is female, the ticket price is 50% of the applicable rates.\n",
        "III. Display the ticket price to the user."
      ],
      "metadata": {
        "id": "f2gcjstHPu5t"
      }
    },
    {
      "cell_type": "code",
      "source": [
        "#I.Ask the user to enter their age\n",
        "age = int(input(\"Enter your age:\"))\n",
        "gender = input(\"Enter your gender:\").lower()\n",
        "\n",
        "#II. Use control statements(if-elif-else) to calculate the ticket price\n",
        "if age < 5:\n",
        "    ticket_price = 0\n",
        "elif 5 <= age <= 12:\n",
        "    ticket_price = 10\n",
        "elif age > 12 and age <= 60:\n",
        "    ticket_price = 50\n",
        "elif age > 60:\n",
        "    ticket_price = 0\n",
        "if gender == 'female':\n",
        "    ticket_price *= 0.5\n",
        "\n",
        "# III. Display the ticket price to the user\n",
        "\n",
        "print(f\"\\nTicket Price:Rs.{ticket_price:}\")\n"
      ],
      "metadata": {
        "colab": {
          "base_uri": "https://localhost:8080/"
        },
        "id": "nt9OfLgvP0Ot",
        "outputId": "1f87e53e-4396-4a44-8f58-8b26ba6c8a8d"
      },
      "execution_count": 16,
      "outputs": [
        {
          "output_type": "stream",
          "name": "stdout",
          "text": [
            "Enter your age:53\n",
            "Enter your gender:female\n",
            "\n",
            "Ticket Price:Rs.25.0\n"
          ]
        }
      ]
    },
    {
      "cell_type": "code",
      "source": [],
      "metadata": {
        "id": "W_WO2D7GSdVn"
      },
      "execution_count": null,
      "outputs": []
    }
  ]
}