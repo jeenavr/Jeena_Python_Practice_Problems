{
  "nbformat": 4,
  "nbformat_minor": 0,
  "metadata": {
    "colab": {
      "provenance": []
    },
    "kernelspec": {
      "name": "python3",
      "display_name": "Python 3"
    },
    "language_info": {
      "name": "python"
    }
  },
  "cells": [
    {
      "cell_type": "markdown",
      "source": [
        "1. Write a program to find sum of all elements in a list of integers.\n"
      ],
      "metadata": {
        "id": "Dj1RJdra1-M7"
      }
    },
    {
      "cell_type": "code",
      "source": [
        "list1=[2,5,7,6,1]\n",
        "list_sum=sum(list1)\n",
        "print(\"Sum of elements in the list is:\",list_sum)"
      ],
      "metadata": {
        "colab": {
          "base_uri": "https://localhost:8080/"
        },
        "id": "90_lFxXA2AAL",
        "outputId": "cd6b9684-79f4-4f55-c630-c174dbd4aded"
      },
      "execution_count": null,
      "outputs": [
        {
          "output_type": "stream",
          "name": "stdout",
          "text": [
            "Sum of elements in the list is: 21\n"
          ]
        }
      ]
    },
    {
      "cell_type": "markdown",
      "source": [
        "2. Input a sentence as a string.\n",
        "a) Print its length\n",
        "b) Print the first half of string"
      ],
      "metadata": {
        "id": "v-E5I9r82TMj"
      }
    },
    {
      "cell_type": "code",
      "source": [
        "str=input(\"Enter the sentence:\")\n",
        "print(\"Length of the string is:\",len(str))\n",
        "half_length=len(str)//2\n",
        "first_half=str[:half_length]\n",
        "print(\"First half of string is:\",first_half)"
      ],
      "metadata": {
        "colab": {
          "base_uri": "https://localhost:8080/"
        },
        "id": "m4N7qm3U2Z8b",
        "outputId": "44004294-bacc-420c-e61a-32914906b47a"
      },
      "execution_count": null,
      "outputs": [
        {
          "output_type": "stream",
          "name": "stdout",
          "text": [
            "Enter the sentence:Python is a highlevel language\n",
            "Length of the string is: 30\n",
            "First half of string is: Python is a hig\n"
          ]
        }
      ]
    },
    {
      "cell_type": "markdown",
      "source": [
        "3. Write a program to enter a tuple of integers as\n",
        "(78,45,32,19,82,77,40,39). Change the third value in the tuple to\n",
        "100"
      ],
      "metadata": {
        "id": "HL8nxS1A4wHU"
      }
    },
    {
      "cell_type": "code",
      "source": [
        "t1=(78,45,32,19,82,77,40,39)\n",
        "tuple_list=list(t1)\n",
        "tuple_list[2]=100\n",
        "modified_tuple=tuple(tuple_list)\n",
        "print(\"Original tuple:\",t1)\n",
        "print(\"Modified tuple:\",modified_tuple)"
      ],
      "metadata": {
        "colab": {
          "base_uri": "https://localhost:8080/"
        },
        "id": "YXNEczkQ4zB6",
        "outputId": "bed36df7-19c5-49ff-9337-25dc2098a6cb"
      },
      "execution_count": null,
      "outputs": [
        {
          "output_type": "stream",
          "name": "stdout",
          "text": [
            "Original tuple: (78, 45, 32, 19, 82, 77, 40, 39)\n",
            "Modified tuple: (78, 45, 100, 19, 82, 77, 40, 39)\n"
          ]
        }
      ]
    },
    {
      "cell_type": "markdown",
      "source": [
        "4. Consider a list listA=[19,32,10,55,31,32,94,29,10,65,77,40,40]\n",
        "(a) Delete the first occurrence of 32\n",
        "(b) Delete all occurrences of 40\n",
        "(c) Delete the value at index=5\n",
        "(d) Modify the value at index=9 as 300\n",
        "(e) Add 200 at index=2\n",
        "(f) Print the final list with its length, maximum value\n",
        "and sum of all elements\n"
      ],
      "metadata": {
        "id": "y_rsFxVL6dZ0"
      }
    },
    {
      "cell_type": "code",
      "source": [
        "#Initial list\n",
        "listA=[19,32,10,55,31,32,94,29,10,65,77,40,40]\n",
        "\n",
        "#(a) Delete the first occurrence of 32\n",
        "listA.remove(32)\n",
        "\n",
        "#(b) Delete all occurrences of 40\n",
        "listA.pop()\n",
        "\n",
        "#(c) Delete the value at index=5\n",
        "del listA[5]\n",
        "\n",
        "#(d) Modify the value at index=9 as 300\n",
        "listA[9]=300\n",
        "\n",
        "#(e) Add 200 at index=2\n",
        "listA[2]=200\n",
        "\n",
        "#(f) Print the final list with its length, maximum value and sum of all elements\n",
        "\n",
        "print(\"Final list is:\",listA)\n",
        "print(\"Length of list is:\",len(listA))\n",
        "print(\"Maximum value of the given list is:\",max(listA))\n",
        "print(\"Sum of all elements in the given list is:\",sum(listA))"
      ],
      "metadata": {
        "colab": {
          "base_uri": "https://localhost:8080/"
        },
        "id": "p2G9lT4j6gas",
        "outputId": "b0add030-a11e-4fab-eff1-e07f29efcef6"
      },
      "execution_count": null,
      "outputs": [
        {
          "output_type": "stream",
          "name": "stdout",
          "text": [
            "Final list is: [19, 10, 200, 31, 32, 29, 10, 65, 77, 300]\n",
            "Length of list is: 10\n",
            "Maximum value of the given list is: 300\n",
            "Sum of all elements in the given list is: 773\n"
          ]
        }
      ]
    },
    {
      "cell_type": "markdown",
      "source": [
        "5. Consider a string ”The day has been long”.\n",
        "(a) Delete the value at index =4\n",
        "(b) Print the string 4 times in a single line with space\n",
        "between each repetition\n",
        "(c) Print the string 3 times in a new line each time\n",
        "(d) Modify the string at index 7 as ’A’\n",
        "(e) Print the string from index 4 to 15\n",
        "(f) Print the final string with its length"
      ],
      "metadata": {
        "id": "A4IvQkpJ8h99"
      }
    },
    {
      "cell_type": "code",
      "source": [
        "str = \"The day has been long\"\n",
        "\n",
        "# (a) Delete the value at index = 4\n",
        "str = str[:4] + str[5:]\n",
        "\n",
        "# (b) Print the string 4 times in a single line with space between each repetition\n",
        "print((str + ' ') * 4)\n",
        "\n",
        "# (c) Print the string 3 times in a new line each time\n",
        "print((str + '\\n') * 3)\n",
        "\n",
        "# (d) Modify the string at index 7 as 'A'\n",
        "str = str[:7] + 'A' + str[8:]\n",
        "\n",
        "# (e) Print the string from index 4 to 15\n",
        "print(str[4:16])\n",
        "\n",
        "# (f) Print the final string with its length\n",
        "print(\"Final string is:\",str)\n",
        "print(\"Length of the string:\", len(str))\n"
      ],
      "metadata": {
        "id": "VrJqpvvp80LV",
        "colab": {
          "base_uri": "https://localhost:8080/"
        },
        "outputId": "fe8002ea-346e-4e3b-b795-c4a09b93d340"
      },
      "execution_count": 1,
      "outputs": [
        {
          "output_type": "stream",
          "name": "stdout",
          "text": [
            "The ay has been long The ay has been long The ay has been long The ay has been long \n",
            "The ay has been long\n",
            "The ay has been long\n",
            "The ay has been long\n",
            "\n",
            "ay Aas been \n",
            "Final string is: The ay Aas been long\n",
            "Length of the string: 20\n"
          ]
        }
      ]
    },
    {
      "cell_type": "code",
      "source": [],
      "metadata": {
        "id": "Dp_gPuN9c9s4"
      },
      "execution_count": null,
      "outputs": []
    }
  ]
}